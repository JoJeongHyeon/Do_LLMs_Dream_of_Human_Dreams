{
  "nbformat": 4,
  "nbformat_minor": 0,
  "metadata": {
    "colab": {
      "provenance": []
    },
    "kernelspec": {
      "name": "python3",
      "display_name": "Python 3"
    },
    "language_info": {
      "name": "python"
    }
  },
  "cells": [
    {
      "cell_type": "code",
      "execution_count": null,
      "metadata": {
        "colab": {
          "base_uri": "https://localhost:8080/"
        },
        "id": "0CEYW94caQYX",
        "outputId": "17fab2e0-2e6e-44a3-d0ac-02994c889dab"
      },
      "outputs": [
        {
          "output_type": "stream",
          "name": "stdout",
          "text": [
            "Mounted at /content/drive\n"
          ]
        }
      ],
      "source": [
        "from google.colab import drive\n",
        "\n",
        "# Google Drive 마운트\n",
        "drive.mount('/content/drive')"
      ]
    },
    {
      "cell_type": "code",
      "source": [
        "!ls \"/content/drive/MyDrive/2025-2. 홍콩대 학술교류/말뭉치 자료\""
      ],
      "metadata": {
        "colab": {
          "base_uri": "https://localhost:8080/"
        },
        "id": "F05cCLp4aX0z",
        "outputId": "17d3802e-f80b-4ac1-b178-f040158f240e"
      },
      "execution_count": null,
      "outputs": [
        {
          "output_type": "stream",
          "name": "stdout",
          "text": [
            "2022구어말뭉치\t2023구어말뭉치\t2023신문말뭉치\tNIKL_SPOKEN_v1.2_JSON\n"
          ]
        }
      ]
    },
    {
      "cell_type": "code",
      "source": [
        "# 우리가 연구할 단어를 적으세요.\n",
        "\n",
        "WORD_WE_USE = \"싸다\"\n",
        "WORD_WE_USE_RE = \"싸|쌀|싼|쌈|쌌|쌉\" # 어간의 활용형 다 적기"
      ],
      "metadata": {
        "id": "7lVtr9rTlh2S"
      },
      "execution_count": null,
      "outputs": []
    },
    {
      "cell_type": "code",
      "source": [
        "import json\n",
        "import os\n",
        "\n",
        "# 압축된 거 풀고 넣는 중\n",
        "file_path_news = \"/content/drive/MyDrive/2025-2. 홍콩대 학술교류/말뭉치 자료/2023신문말뭉치\"\n",
        "file_path_talk = \"/content/drive/MyDrive/2025-2. 홍콩대 학술교류/말뭉치 자료/2023구어말뭉치\"\n",
        "\n",
        "news_files = [f for f in os.listdir(file_path_news) if f.endswith(\".json\")]\n",
        "talk_files = [f for f in os.listdir(file_path_talk) if f.endswith(\".json\")]\n",
        "\n",
        "print(f\"신문 : 총 {len(news_files)}개의 JSON 파일이 있습니다.\\n\")\n",
        "print(f\"구어 : 총 {len(talk_files)}개의 JSON 파일이 있습니다.\\n\")"
      ],
      "metadata": {
        "colab": {
          "base_uri": "https://localhost:8080/"
        },
        "id": "O5inx0VOaaqM",
        "outputId": "659c2d7c-947e-4f00-ad76-996661d2efe1"
      },
      "execution_count": null,
      "outputs": [
        {
          "output_type": "stream",
          "name": "stdout",
          "text": [
            "신문 : 총 28개의 JSON 파일이 있습니다.\n",
            "\n",
            "구어 : 총 1985개의 JSON 파일이 있습니다.\n",
            "\n"
          ]
        }
      ]
    },
    {
      "cell_type": "markdown",
      "source": [
        "# '차다'의 활용형만 추출"
      ],
      "metadata": {
        "id": "tR7MEP9GvRUN"
      }
    },
    {
      "cell_type": "code",
      "source": [
        "import json\n",
        "import os\n",
        "from tqdm import tqdm\n",
        "import re\n",
        "\n",
        "def extract_forms(json_file, file_path, data_type):\n",
        "    \"\"\"\n",
        "    지정된 JSON 파일에서 'form' 데이터를 추출하는 함수\n",
        "    \"\"\"\n",
        "    file_full_path = os.path.join(file_path, json_file)\n",
        "\n",
        "    try:\n",
        "        with open(file_full_path, 'r', encoding='utf-8') as f:\n",
        "            data = json.load(f)\n",
        "\n",
        "        sentences_dict = {}\n",
        "\n",
        "        # 신문과 구어의 구조에 따라 적절한 경로 선택\n",
        "        if \"document\" in data:\n",
        "            for doc in data[\"document\"]:\n",
        "                if data_type == \"talk\":  # 구어 말뭉치 구조\n",
        "                    if \"utterance\" in doc:\n",
        "                        for utterance in doc[\"utterance\"]:\n",
        "                            if \"form\" in utterance and utterance[\"form\"]:\n",
        "                                sentences_dict[utterance[\"id\"]] = utterance[\"form\"]\n",
        "                elif data_type == \"news\":  # 신문 말뭉치 구조\n",
        "                    if \"paragraph\" in doc:\n",
        "                        for paragraph in doc[\"paragraph\"]:\n",
        "                            if \"form\" in paragraph and paragraph[\"form\"]:\n",
        "                                sentences_dict[paragraph[\"id\"]] = paragraph[\"form\"]\n",
        "\n",
        "        return sentences_dict\n",
        "\n",
        "    except Exception as e:\n",
        "        print(f\"❌ 파일 '{json_file}' 읽기 오류: {e}\")\n",
        "        return {}\n",
        "\n",
        "def collect_sentences_with_words(file_path, search_pattern, data_type):\n",
        "    \"\"\"\n",
        "    특정 패턴으로 시작하는 단어를 포함하는 모든 문장을 수집하는 함수\n",
        "    \"\"\"\n",
        "    files = [f for f in os.listdir(file_path) if f.endswith(\".json\")]\n",
        "    result = {}\n",
        "    pattern = re.compile(rf\"\\b({search_pattern})[가-힣]*\\b\")  # 단어가 정확히 시작하고 끝나는 경우만 검색\n",
        "\n",
        "    for file in tqdm(files, desc=f\"{data_type} 파일 처리 중\", unit=\"파일\"):\n",
        "        sentences_dict = extract_forms(file, file_path, data_type)\n",
        "        filtered_sentences = {id_: sentence for id_, sentence in sentences_dict.items() if pattern.search(sentence)}\n",
        "\n",
        "        if filtered_sentences:\n",
        "            result.update(filtered_sentences)\n",
        "\n",
        "    return result"
      ],
      "metadata": {
        "id": "S-Alt7-feDO5"
      },
      "execution_count": null,
      "outputs": []
    },
    {
      "cell_type": "code",
      "source": [
        "# 말뭉치 경로 (사용자가 지정 가능)\n",
        "file_path_news_2023 = \"/content/drive/MyDrive/2025-2. 홍콩대 학술교류/말뭉치 자료/2023신문말뭉치\"  # 신문 말뭉치 경로\n",
        "file_path_talk_2022 = \"/content/drive/MyDrive/2025-2. 홍콩대 학술교류/말뭉치 자료/2022구어말뭉치\"  # 구어 말뭉치 경로\n",
        "file_path_talk_2023 = \"/content/drive/MyDrive/2025-2. 홍콩대 학술교류/말뭉치 자료/2023구어말뭉치\"  # 구어 말뭉치 경로"
      ],
      "metadata": {
        "id": "-aacyZgslMzz"
      },
      "execution_count": null,
      "outputs": []
    },
    {
      "cell_type": "code",
      "source": [
        "# 정규식 검색 패턴\n",
        "search_pattern = WORD_WE_USE_RE\n",
        "\n",
        "# 문장 수집 실행\n",
        "collected_2022_talk_sentences = collect_sentences_with_words(file_path_talk_2022, search_pattern, data_type=\"talk\")\n",
        "collected_2023_talk_sentences = collect_sentences_with_words(file_path_talk_2023, search_pattern, data_type=\"talk\")\n",
        "collected_2023_news_sentences = collect_sentences_with_words(file_path_news_2023, search_pattern, data_type=\"news\")\n",
        "\n",
        "# 결과 출력\n",
        "print(\"----------------------------\")\n",
        "print(f\"구어 말뭉치에서 수집된 문장: {len(collected_2022_talk_sentences)}개\")\n",
        "print(f\"구어 말뭉치에서 수집된 문장: {len(collected_2023_talk_sentences)}개\")\n",
        "print(f\"신문 말뭉치에서 수집된 문장: {len(collected_2023_news_sentences)}개\")"
      ],
      "metadata": {
        "colab": {
          "base_uri": "https://localhost:8080/"
        },
        "id": "VPxUgsKikRat",
        "outputId": "3b0c6beb-f8a7-45e5-e51d-03edfa32e4fa"
      },
      "execution_count": null,
      "outputs": [
        {
          "output_type": "stream",
          "name": "stderr",
          "text": [
            "talk 파일 처리 중: 100%|██████████| 2654/2654 [01:22<00:00, 32.31파일/s] \n",
            "talk 파일 처리 중: 100%|██████████| 1985/1985 [00:55<00:00, 35.52파일/s] \n",
            "news 파일 처리 중: 100%|██████████| 28/28 [03:23<00:00,  7.28s/파일]"
          ]
        },
        {
          "output_type": "stream",
          "name": "stdout",
          "text": [
            "----------------------------\n",
            "구어 말뭉치에서 수집된 문장: 3183개\n",
            "구어 말뭉치에서 수집된 문장: 2142개\n",
            "신문 말뭉치에서 수집된 문장: 44729개\n"
          ]
        },
        {
          "output_type": "stream",
          "name": "stderr",
          "text": [
            "\n"
          ]
        }
      ]
    },
    {
      "cell_type": "code",
      "source": [
        "if collected_2022_talk_sentences:\n",
        "    print(\"\\n📂 2022 구어 말뭉치 예제\")\n",
        "    for i, (id_, sentence) in enumerate(list(collected_2022_talk_sentences.items())[:10]):  # 처음 10개만 출력\n",
        "        print(f\"{i+1}. ID: {id_} | 문장: {sentence}\")\n",
        "\n",
        "if collected_2023_talk_sentences:\n",
        "    print(\"\\n📂 2023 구어 말뭉치 예제\")\n",
        "    for i, (id_, sentence) in enumerate(list(collected_2023_talk_sentences.items())[:10]):  # 처음 10개만 출력\n",
        "        print(f\"{i+1}. ID: {id_} | 문장: {sentence}\")\n",
        "\n",
        "if collected_2023_news_sentences:\n",
        "    print(\"\\n📂 2023 신문 말뭉치 예제\")\n",
        "    for i, (id_, sentence) in enumerate(list(collected_2023_news_sentences.items())[:10]):  # 처음 10개만 출력\n",
        "        print(f\"{i+1}. ID: {id_} | 문장: {sentence}\")"
      ],
      "metadata": {
        "colab": {
          "base_uri": "https://localhost:8080/"
        },
        "id": "0SHeuXBzkacq",
        "outputId": "29a46119-ba01-4f80-85bb-638f1892c895"
      },
      "execution_count": null,
      "outputs": [
        {
          "output_type": "stream",
          "name": "stdout",
          "text": [
            "\n",
            "📂 2022 구어 말뭉치 예제\n",
            "1. ID: SDRW2200001995.1.1.269 | 문장: 도시락 싸서 챙겨 주고\n",
            "2. ID: SDRW2200002000.1.1.51 | 문장: 나는 친구들이랑 싸우거나 그런 적은 없는데 친구들이 나를 미워한 적도 있었고\n",
            "3. ID: SDRW2200002000.1.1.56 | 문장: 막 자기들끼리 막 싸워 가지고 막 엄청 소리 지르고 난리 치고\n",
            "4. ID: SDRW2200002018.1.1.64 | 문장: 캄보디아 가서 나 싸웠거든.\n",
            "5. ID: SDRW2200001996.1.1.261 | 문장: 아니 오히려 싸움을 걸었 싸움이 났는데\n",
            "6. ID: SDRW2200002020.1.1.222 | 문장: 단백질 보충하기 위해서 소고기 사 먹는 거보다는 싸다.\n",
            "7. ID: SDRW2200002020.1.1.239 | 문장: 아니 굴 자체가 어 우리나라에는 굉장히 싸지만은\n",
            "8. ID: SDRW2200002029.1.1.174 | 문장: 싸워야 된다. 이건 좀 불공평한 것\n",
            "9. ID: SDRW2200002024.1.1.215 | 문장: 그래서 지금 난리야 지금 서로 막 싸움이 일어나 가지고\n",
            "10. ID: SDRW2200002025.1.1.84 | 문장: 혹시 도시락 싸 갖고 다니셨습니까?\n",
            "\n",
            "📂 2023 구어 말뭉치 예제\n",
            "1. ID: SDRW2300000979.1.1.41 | 문장: 더 이상 싸울 힘이\n",
            "2. ID: SDRW2300000979.1.1.44 | 문장: 어 매번 싸우기만 했던 그 시간들이\n",
            "3. ID: SDRW2300000984.1.1.264 | 문장: 마냥 선악의 싸움이다라고 보기만은 좀\n",
            "4. ID: SDRW2300000998.1.1.137 | 문장: 그런 외국 쌀이 그렇잖아요.\n",
            "5. ID: SDRW2300000998.1.1.138 | 문장: 그 그런 쌀 이렇게 요리 방법도 다르고\n",
            "6. ID: SDRW2300000998.1.1.244 | 문장: 그래서 도시락을 싸 갔어요.\n",
            "7. ID: SDRW2300000998.1.1.247 | 문장: 김밥을 산 싼 거예요 제가.\n",
            "8. ID: SDRW2300000997.1.1.61 | 문장: 가 보셔도 좋을 거 같고 음식의 값이 되게 싸대요.\n",
            "9. ID: SDRW2300000997.1.1.129 | 문장: 음 그리고 쌀국수 그런 것도 베트남 쌀국수 이런 것도 되게\n",
            "10. ID: SDRW2300000997.1.1.134 | 문장: 쌀국순데 그렇게 맛있지는 않더라고요.\n",
            "\n",
            "📂 2023 신문 말뭉치 예제\n",
            "1. ID: NIRW2300000001.1.12 | 문장: 신 의장은 “오래 염원해온 미래를 하루라도 빨리 앞당기기 위해 우리는 코로나19와의 싸움과 수도권 일극체제와의 대결에서 반드시 반전의 기회를 잡아야 한다”며 “힘을 모아 기필코 승리하자”고 강조했다.\n",
            "2. ID: NIRW2300000001.20.1 | 문장: [영상]“새해 복 많이” 현충원서 만난 윤석열·이준석…싸늘한 분위기\n",
            "3. ID: NIRW2300000001.21.1 | 문장: 노 대통령 ‘대연정’ 언급 김경수 “대화·타협 포기하면 정치는 싸움”\n",
            "4. ID: NIRW2300000001.21.9 | 문장: 그는 “서로 치열하게 경쟁하고 싸워서 결국에는 하나로 통합 시켜 낼 수 있어야 비로소 제대로 된 ‘정치’가 되고, 대화와 타협을 통해 하나로 통합시키는 역할을 포기한다면 그때는 정치가 아니라 권력을 놓고 다투는 단순한 ‘싸움’ 그 이상도 이하도 아니다”라고 강조했다.\n",
            "5. ID: NIRW2300000001.128.7 | 문장: 용진읍에는 14년째 얼굴 없는 천사가 찾아와 쌀을 기부하고 있는데, 또 다른 얼굴 없는 천사가 성금을 보낸 것이다.\n",
            "6. ID: NIRW2300000001.128.8 | 문장: 용진읍 관계자는 “매년 이어지고 있는 얼굴 없는 천사의 쌀나눔이 또 다른 얼굴 없는 천사의 선행으로 이어져 우리 주민들에게 큰 희망과 감동을 주고 있다”며 “연말 추워지는 날씨와 지속되고 있는 코로나19로 모두가 암울하고 지쳐있는 시기에 큰 힘과 위로가 될 것 같아 진심으로 감사하다”고 말했다.\n",
            "7. ID: NIRW2300000001.257.7 | 문장: 레저용 차량(RV)은 팰리세이드 5만2338대, 싼타페 4만1600대, 투싼 4만8376대, 아이오닉5 2만2671대, 캐스퍼 1만806대 등 총 21만33대를 판매했다.\n",
            "8. ID: NIRW2300000001.286.13 | 문장: 실용주의를 강조한 이 후보는 “부동산 문제 역시 가격만 억누르며 시장과 싸우기보다 무주택 실수요자와 1주택자 보호를 핵심 목표로 삼고 충분한 공급과 시장안정을 이루겠다”며 “다주택자 양도세 중과 한시유예, 불합리한 종부세 시정과 마찬가지로 집값 안정에 도움이 되는 합리적인 방향으로 재건축·재개발 규제도 완화하겠다”고 말해 문재인 정부와의 차별화 기조도 이어갔다.\n",
            "9. ID: NIRW2300000001.305.1 | 문장: 댓글로 정책 만드는 ‘尹공약위키’…반응은 ‘싸늘’[이슈시개]\n",
            "10. ID: NIRW2300000001.333.6 | 문장: 지난 2000년 첫선을 보인 ‘레지던트 이블’은 거대 제약회사 엄브렐러와 비밀 연구소 하이브, 치명적인 T바이러스의 등장, 그리고 하이브를 탈출하기 위해 레드 퀸과 맞서 싸우는 주인공 앨리스(밀라 요보비치)의 화려한 액션으로 인기를 모았고, 지금까지도 좀비 액션 호러의 레전드로 불린다.\n"
          ]
        }
      ]
    },
    {
      "cell_type": "markdown",
      "source": [
        "# 형태소 분석기 이용"
      ],
      "metadata": {
        "id": "s33kWzd0vNLZ"
      }
    },
    {
      "cell_type": "code",
      "source": [
        "!pip -q install kiwipiepy"
      ],
      "metadata": {
        "colab": {
          "base_uri": "https://localhost:8080/"
        },
        "id": "AdBxH-nmyxXH",
        "outputId": "22f12432-58be-447b-cf79-9c2ab7ea39cd"
      },
      "execution_count": null,
      "outputs": [
        {
          "output_type": "stream",
          "name": "stdout",
          "text": [
            "\u001b[2K     \u001b[90m━━━━━━━━━━━━━━━━━━━━━━━━━━━━━━━━━━━━━━━━\u001b[0m \u001b[32m34.7/34.7 MB\u001b[0m \u001b[31m15.7 MB/s\u001b[0m eta \u001b[36m0:00:00\u001b[0m\n",
            "\u001b[?25h  Preparing metadata (setup.py) ... \u001b[?25l\u001b[?25hdone\n",
            "\u001b[2K   \u001b[90m━━━━━━━━━━━━━━━━━━━━━━━━━━━━━━━━━━━━━━━━\u001b[0m \u001b[32m3.6/3.6 MB\u001b[0m \u001b[31m91.9 MB/s\u001b[0m eta \u001b[36m0:00:00\u001b[0m\n",
            "\u001b[?25h  Building wheel for kiwipiepy_model (setup.py) ... \u001b[?25l\u001b[?25hdone\n"
          ]
        }
      ]
    },
    {
      "cell_type": "code",
      "source": [
        "from kiwipiepy import Kiwi\n",
        "from tqdm import tqdm\n",
        "\n",
        "# Kiwi 형태소 분석기 초기화\n",
        "kiwi = Kiwi()\n",
        "\n",
        "def highlight_tada_sentences(sentences_dict):\n",
        "    f\"\"\"\n",
        "    문장에서 '{WORD_WE_USE[0]}'가 동사(VV) 또는 형용사(VA)로 쓰인 경우에만\n",
        "    해당 단어를 강조 표시하여 결과에 포함시키는 함수.\n",
        "    \"\"\"\n",
        "    highlighted_sentences = {}\n",
        "\n",
        "    for id_, sentence in tqdm(sentences_dict.items(), desc=\"형태소 분석 진행 중\", unit=\"문장\"):\n",
        "        analyzed = kiwi.analyze(sentence)\n",
        "        tokens_to_highlight = []\n",
        "\n",
        "        # 토큰 중 조건에 맞는 것만 선별\n",
        "        for token in analyzed[0][0]:\n",
        "            if token.form == f\"{WORD_WE_USE[0]}\" and token.tag in {\"VV\", \"VA\"}:\n",
        "                tokens_to_highlight.append(token)\n",
        "\n",
        "        # 조건에 맞는 토큰이 있을 때만 문자열 리스트 변환 및 수정 수행\n",
        "        if tokens_to_highlight:\n",
        "            char_list = list(sentence)\n",
        "            for token in tokens_to_highlight:\n",
        "                start, length = token.start, token.len\n",
        "                char_list[start] = f\"[{char_list[start]}\"\n",
        "                char_list[start + length - 1] = f\"{char_list[start + length - 1]}]\"\n",
        "            highlighted_sentences[id_] = \"\".join(char_list)\n",
        "\n",
        "    return highlighted_sentences"
      ],
      "metadata": {
        "id": "1SPHUKXNvNp9"
      },
      "execution_count": null,
      "outputs": []
    },
    {
      "cell_type": "code",
      "source": [
        "import random\n",
        "\n",
        "def sample_sentences(sentences_dict, sample_size=100000, random_state=42):\n",
        "    \"\"\"\n",
        "    주어진 문장 딕셔너리에서 sample_size만큼 랜덤 샘플링하여 반환하는 함수.\n",
        "    random_state가 주어지면, 재현 가능한 샘플링을 위해 해당 시드를 사용합니다.\n",
        "    \"\"\"\n",
        "    rng = random.Random(random_state) if random_state is not None else random\n",
        "    sampled_keys = rng.sample(list(sentences_dict.keys()), min(sample_size, len(sentences_dict)))\n",
        "    return {key: sentences_dict[key] for key in sampled_keys}"
      ],
      "metadata": {
        "id": "Zvq3VgKH49y5"
      },
      "execution_count": null,
      "outputs": []
    },
    {
      "cell_type": "code",
      "source": [
        "sampled_2023_news_sentences = sample_sentences(collected_2023_news_sentences)\n",
        "\n",
        "# 어간의 활용형이 포함된 문장 필터링\n",
        "filtered_2022_talk_sentences = highlight_tada_sentences(collected_2022_talk_sentences)\n",
        "filtered_2023_talk_sentences = highlight_tada_sentences(collected_2023_talk_sentences)\n",
        "filtered_2023_news_sentences = highlight_tada_sentences(sampled_2023_news_sentences)\n",
        "\n",
        "# 결과 출력\n",
        "print(\"------------------------------\")\n",
        "print(f\"2022 구어 말뭉치에서 '{WORD_WE_USE}' 활용형이 포함된 문장: {len(filtered_2022_talk_sentences)}개\")\n",
        "print(f\"2023 구어 말뭉치에서 '{WORD_WE_USE}' 활용형이 포함된 문장: {len(filtered_2023_talk_sentences)}개\")\n",
        "print(f\"2023 신문 말뭉치에서 '{WORD_WE_USE}' 활용형이 포함된 문장: {len(filtered_2023_news_sentences)}개\")"
      ],
      "metadata": {
        "colab": {
          "base_uri": "https://localhost:8080/"
        },
        "id": "JD08XEORyq5p",
        "outputId": "cd679005-acd2-4ced-b13d-76b32e62de4c"
      },
      "execution_count": null,
      "outputs": [
        {
          "output_type": "stream",
          "name": "stderr",
          "text": [
            "형태소 분석 진행 중: 100%|██████████| 3183/3183 [00:11<00:00, 265.76문장/s] \n",
            "형태소 분석 진행 중: 100%|██████████| 2142/2142 [00:03<00:00, 616.94문장/s]\n",
            "형태소 분석 진행 중: 100%|██████████| 44729/44729 [04:33<00:00, 163.73문장/s]"
          ]
        },
        {
          "output_type": "stream",
          "name": "stdout",
          "text": [
            "------------------------------\n",
            "2022 구어 말뭉치에서 '싸다' 활용형이 포함된 문장: 1692개\n",
            "2023 구어 말뭉치에서 '싸다' 활용형이 포함된 문장: 1199개\n",
            "2023 신문 말뭉치에서 '싸다' 활용형이 포함된 문장: 4984개\n"
          ]
        },
        {
          "output_type": "stream",
          "name": "stderr",
          "text": [
            "\n"
          ]
        }
      ]
    },
    {
      "cell_type": "code",
      "source": [
        "if filtered_2022_talk_sentences:\n",
        "    print(\"\\n📂 2022 구어 말뭉치 예제\")\n",
        "    for i, (id_, sentence) in enumerate(list(filtered_2022_talk_sentences.items())[:30]):  # 처음 10개만 출력\n",
        "        print(f\"{i+1}. ID: {id_} | 문장: {sentence}\")\n",
        "\n",
        "if filtered_2023_talk_sentences:\n",
        "    print(\"\\n📂 2023 구어 말뭉치 예제\")\n",
        "    for i, (id_, sentence) in enumerate(list(filtered_2023_talk_sentences.items())[:30]):  # 처음 10개만 출력\n",
        "        print(f\"{i+1}. ID: {id_} | 문장: {sentence}\")\n",
        "\n",
        "if filtered_2023_news_sentences:\n",
        "    print(\"\\n📂 2023 신문 말뭉치 예제\")\n",
        "    for i, (id_, sentence) in enumerate(list(filtered_2023_news_sentences.items())[:30]):  # 처음 10개만 출력\n",
        "        print(f\"{i+1}. ID: {id_} | 문장: {sentence}\")"
      ],
      "metadata": {
        "colab": {
          "base_uri": "https://localhost:8080/"
        },
        "id": "PrsUot7myrhA",
        "outputId": "3ecf4212-4468-4b29-ba0e-3daa516b0883"
      },
      "execution_count": null,
      "outputs": [
        {
          "output_type": "stream",
          "name": "stdout",
          "text": [
            "\n",
            "📂 2022 구어 말뭉치 예제\n",
            "1. ID: SDRW2200001995.1.1.269 | 문장: 도시락 [싸]서 챙겨 주고\n",
            "2. ID: SDRW2200002020.1.1.222 | 문장: 단백질 보충하기 위해서 소고기 사 먹는 거보다는 [싸]다.\n",
            "3. ID: SDRW2200002020.1.1.239 | 문장: 아니 굴 자체가 어 우리나라에는 굉장히 [싸]지만은\n",
            "4. ID: SDRW2200002025.1.1.84 | 문장: 혹시 도시락 [싸] 갖고 다니셨습니까?\n",
            "5. ID: SDRW2200002025.1.1.85 | 문장: 그럼요 도시락은 당연히 [싸] 가지고 다녀 다녀야죠.\n",
            "6. ID: SDRW2200002025.1.1.89 | 문장: 그리고 반찬 김치 [싸] 가지고 가면 김치국물\n",
            "7. ID: SDRW2200002025.1.1.106 | 문장: 어릴 때 도시락을 초등학교 3학년 때까지 [싸]가 보고\n",
            "8. ID: SDRW2200002028.1.1.132 | 문장: 근데 육개장이 원래 850원이었나? 750원? 엄청 [쌌]잖아\n",
            "9. ID: SDRW2200002028.1.1.228 | 문장: 이게 [싼] 편인가 비싼 편인가 비교하기도 쉽고\n",
            "10. ID: SDRW2200002019.1.1.36 | 문장: 조금 더 [싼] 걸로 기다려 보려고 아직 예약 안 했어요.\n",
            "11. ID: SDRW2200002019.1.1.54 | 문장: 응 괜찮지 회. 응 거 회는 조금 [싸]게 먹을라 그러면은\n",
            "12. ID: SDRW2200002019.1.1.61 | 문장: 거기에 [싸]서 먹는 횟집이 있다고.\n",
            "13. ID: SDRW2200002033.1.1.121 | 문장: 아 저 [싼] 걸 먹어라 이게 아니라?\n",
            "14. ID: SDRW2200002033.1.1.122 | 문장: 비싼 게 맛있는 거고 [싼] 거는 맛없는 거.\n",
            "15. ID: SDRW2200002033.1.1.219 | 문장: 최 아주 돈 [싼] 돈으로 자기네 그냥 필요한 인력 뽑아 갖고 굴리는 걔네들은\n",
            "16. ID: SDRW2200002050.1.1.357 | 문장: 거기 가게 근처 가게 가서 사라 그게 훨씬 [쌀] 거다 그렇게 말해 줬던 기억이 나고요.\n",
            "17. ID: SDRW2200002060.1.1.174 | 문장: 근데 그거를 합 제가 생각을 해 봤는데 동생이랑 저랑 요금이 좀 더 [싸]고 엄마 보다\n",
            "18. ID: SDRW2200002060.1.1.181 | 문장: 합산해 보면 엄마가 절약한 게 맞긴 맞았겠죠 버스가 훨씬 [싸]니까.\n",
            "19. ID: SDRW2200002102.1.1.132 | 문장: 뭐 밥 [싸]고 막 자랑스러워 하는데\n",
            "20. ID: SDRW2200002064.1.1.173 | 문장: [싸]잖아요. 마을버스는 일반 버스보다 한 몇\n",
            "21. ID: SDRW2200002064.1.1.174 | 문장: 한 200원 200얼마쯤 [싼] 걸로 알고 있는데\n",
            "22. ID: SDRW2200002096.1.1.228 | 문장: 어 [싼] 거 [싼] 뭐 채소도\n",
            "23. ID: SDRW2200002096.1.1.229 | 문장: [싸]게 사고 뭐 그런 거를 추구하다 보니까 이런\n",
            "24. ID: SDRW2200002085.1.1.9 | 문장: 그래서 제일 [싼] 비행기를 끊었는데도 그 모양이야.\n",
            "25. ID: SDRW2200002085.1.1.12 | 문장: 내가 코로나 때도 비행기 타면 진짜 그땐 [쌌]거든?\n",
            "26. ID: SDRW2200002059.1.1.69 | 문장: 뭐 이렇게 [싸] 가지고 다니던\n",
            "27. ID: SDRW2200002059.1.1.273 | 문장: 선생님들도 도시락 [싸]오셨어.\n",
            "28. ID: SDRW2200002059.1.1.284 | 문장: 도시락 [싸]야 돼 너네 도시락\n",
            "29. ID: SDRW2200002061.1.1.54 | 문장: 값이 [싸]다\n",
            "30. ID: SDRW2200002106.1.1.20 | 문장: 그 음식을 보면 그래 샐러드 위주로 먹고 그렇게 하고 도시락도 [싸]서 가서 먹고 그렇게 하는데\n",
            "\n",
            "📂 2023 구어 말뭉치 예제\n",
            "1. ID: SDRW2300000998.1.1.244 | 문장: 그래서 도시락을 [싸] 갔어요.\n",
            "2. ID: SDRW2300000998.1.1.247 | 문장: 김밥을 산 [싼] 거예요 제가.\n",
            "3. ID: SDRW2300000997.1.1.61 | 문장: 가 보셔도 좋을 거 같고 음식의 값이 되게 [싸]대요.\n",
            "4. ID: SDRW2300000999.1.1.219 | 문장: 바리바리 가지고 [싸]서\n",
            "5. ID: SDRW2300000978.1.1.161 | 문장: [싸]게\n",
            "6. ID: SDRW2300001033.1.1.14 | 문장: 이 사람이 그 안전 거래라고 하는 그 [싸] 사이트를 주는 거야.\n",
            "7. ID: SDRW2300001010.1.1.103 | 문장: 한 중간에 몰래 가방 [싸]서 탈출했어.\n",
            "8. ID: SDRW2300001010.1.1.118 | 문장: [싸] 입구 정문에서부터\n",
            "9. ID: SDRW2300001007.1.1.288 | 문장: 지금 가을 겨울옷 사면 더 [싸]잖아.\n",
            "10. ID: SDRW2300001014.1.1.40 | 문장: 요즘은 좀 거품이 빠져서 많이 [싸]졌는데 그때는 되게 [쌌]잖아 집들이.\n",
            "11. ID: SDRW2300001030.1.1.231 | 문장: 내가 봤을 때는 거기는 이제 관리비 대단지 같은 데가 관리비가 더 [싸]다고 얘기하더라고.\n",
            "12. ID: SDRW2300001030.1.1.237 | 문장: 관리비는 대단지가 [쌀] 수밖에 없는 게\n",
            "13. ID: SDRW2300001030.1.1.241 | 문장: 내는 사람들이 많기 때문에 관리비가 전체적으로 [싸]지는 거고\n",
            "14. ID: SDRW2300001063.1.1.78 | 문장: 거기다 음식을 좀 [싸]서 넣어야 되고 하니까\n",
            "15. ID: SDRW2300001039.1.1.245 | 문장: 김 [싸] 가지고 이제 딱 먹으니까 진짜\n",
            "16. ID: SDRW2300001066.1.1.102 | 문장: [싸]게 들긴 하지만\n",
            "17. ID: SDRW2300001066.1.1.229 | 문장: 에 서울권이나 수도권이나 이런 데 비하면은 배달비는 [싼] 편이니까\n",
            "18. ID: SDRW2300001054.1.1.22 | 문장: 내가 이삿짐 [싸]려 하면은\n",
            "19. ID: SDRW2300001054.1.1.170 | 문장: 그거는 이사 갈 때 짐 [싸]면서 생각해 보자.\n",
            "20. ID: SDRW2300001054.1.1.226 | 문장: 그러면 짐을 [쌀] 때 그릇을 좀\n",
            "21. ID: SDRW2300001054.1.1.272 | 문장: 저 밑에보다는 좀 [싼] 거 같아.\n",
            "22. ID: SDRW2300001054.1.1.281 | 문장: 아는 사람인데 그래서 좀 [싸]게 해 준대.\n",
            "23. ID: SDRW2300001058.1.1.206 | 문장: 매장에서 사는 것보다 인터넷으로 사는 게 더 [싸]긴 하더라고요.\n",
            "24. ID: SDRW2300001059.1.1.20 | 문장: 좀 [싸]고 맛있게 많이 먹을 수가 있더라고.\n",
            "25. ID: SDRW2300001051.1.1.391 | 문장: [싸]게 살 수 있는\n",
            "26. ID: SDRW2300001074.1.1.144 | 문장: 그냥 배변 패드에 음식 놔두면 여기서 [싸]겠거니 싶었는데\n",
            "27. ID: SDRW2300001069.1.1.310 | 문장: 엔화가 [싸]졌잖아.\n",
            "28. ID: SDRW2300001069.1.1.315 | 문장: 맞아. 최근 많이 가는 거는 엔화가 [싸]져서\n",
            "29. ID: SDRW2300001089.1.1.224 | 문장: 안 되겠다. 쌈이라도 [싸] 드려야겠다\n",
            "30. ID: SDRW2300001089.1.1.227 | 문장: 내가 이제 [싸] 드렸는데\n",
            "\n",
            "📂 2023 신문 말뭉치 예제\n",
            "1. ID: NLRW2300000003.9888.11 | 문장: 고령사회인 예천읍의 무인점포(과자·아이스크림)의 경우는 이와 반대로 가격이 [싼] 것에 비해 매출이 거의 오르지 않고 적자를 면치 못하고 있다. 예천읍은 고령사회로 평균나이가 51.4세로 노인들의 무인점포 이용이 적다.\n",
            "2. ID: NWRW2300000005.37565.7 | 문장: 대체로 지방은행과 인터넷은행의 가계대출 예대금리차가 컸다. 다만 이러한 예대금리차는 예금과 대출금리의 차이일 뿐, 대출이 가장 비싸거나, 예금이 가장 [싸]다는 의미는 아니다. 또 은행별로 차주(대출자)의 신용도가 다르게 때문에 단순비교도 어렵다. 다만 공개된 자료를 통해 어느 은행이 어느 정도 수준에 예금이나 대출상품을 파는지는 알 수 있다.\n",
            "3. ID: NPRW2300000001.39867.3 | 문장: 14일 법조계와 금융권에 따르면 대구지방검찰청 반부패수사부는 최근 우리은행의 한 지점에서 약 4000억원을 해외로 송금한 A사 관계자 3명을 특정금융거래정보 보고 및 이용 등에 관한 법률(특금법)과 외환 관리법 위반 혐의로 지난 10일 구속했다. 검찰은 해외에서 [싸]게 산 코인(가상자산)을 국내에 비싸게 팔아 시세 차익을 올리는 이른바 ‘김치 프리미엄’을 활용한 ‘코인 환치기’를 의심하고 있다.\n",
            "4. ID: NPRW2300000005.68066.5 | 문장: 그는 “원가가 낮아진 만큼 제품 가격도 [싸]게 판매한다면 매출액 추정치가 낮아질 수 있겠지만 점유율 상승과 원가 상승을 최소화해 이익률은 장기적으로 상승할 것”이라고 전망했다.\n",
            "5. ID: NLRW2300000003.9683.3 | 문장: 시중가보다 50~60% [싼] 가격에 가구를 구매할 수 있는 곳이 대구에 생겨 호응을 얻고 있다. 3월 30일 대구 최초로 중구 동인동에 문을 연 ‘중구 재활용센터’다.\n",
            "6. ID: NPRW2300000006.17493.16 | 문장: 중국이나 인도 등 제재에 참가하지 않는 국가들이 가격이 훨씬 [싸]지게 된 러시아산 원유 매입을 확대하는 움직임을 나타내 제재 효과를 떨어뜨릴 수 있다. 서구권이 다시 이런 샛길 봉쇄를 위해 추가 제재에 나설 가능성도 있어 시장 불확실성은 한층 높아지게 된다고 전문가들은 지적했다.\n",
            "7. ID: NWRW2300000006.10155.5 | 문장: 정용훈 카이스트 교수는 “인허가를 위해 가동하지 않고 멈춘 기간을 면허 연장 기간에서 제외하는 일본처럼 제도를 바꿀 필요가 있다”며 “발전 단가가 [싼] 원전을 하나라도 더 돌리는 게 국가 경제 차원이나 에너지 안보 측면에서 이익이다”라고 말했다.\n",
            "8. ID: NWRW2300000008.31113.7 | 문장: 테슬라 주가가 추가 하락할 수 있다는 경고도 나왔다. 야후 파이낸스에 따르면 테슬라의 12개월 선행 주가수익비율(PER)은 32배로, 역대 평균 PER와 비교하면 70% 할인된 수준까지 내려왔다. 블룸버그통신은 “테슬라 주식이 이렇게 [싼] 적이 없었지만, 주가는 여전히 더 내려갈 수 있다”며 중국 시장의 전기차 수요가 기대에 못 미치고 트위터와 관련한 머스크 리스크가 새해에도 테슬라에 악재가 될 것이라고 지적했다.\n",
            "9. ID: NPRW2300000003.79557.6 | 문장: 특히 저자는 유가증권시장에 상장된 리츠에 투자할 경우 시세차익과 함께 상대적으로 높은 배당률까지 챙길 수 있다고 주장했다. 일반 주식처럼 거래되기 때문에 투자에 따른 매매손실을 입을 수도 있지만, 이러한 문제는 장기 투자를 통해 해소할 수 있고, 주가가 [쌀] 때 투자하면 오히려 배당수익률을 높일 기회라고 강조했다.\n",
            "10. ID: NPRW2300000006.51921.4 | 문장: 브랜드 한우(10개 브랜드 전 품목)도 행사카드로 전액 결제 시 40% [싸]게 구매할 수 있다. 해당 할인은 12월 31일부터 1월 4일까지 적용된다. 브랜드 한우는 평소 주말보다 40배 늘려 물량을 준비했다.\n",
            "11. ID: NWRW2300000007.8329.2 | 문장: 세계 최대 검색엔진 기업 구글의 러시아 자회사가 파산을 신청했다. 세계적 기업 중에서는 러시아에서 아예 짐을 [싸] 떠나는 경우도 늘고 있다.\n",
            "12. ID: NPRW2300000005.44383.5 | 문장: 3위 LG에너지솔루션은 -15.89%, 4위 삼성SDI(006400)는 -4.37%, 5위 LG화학도 -11.50%로 저조한 수익률을 기록했다. 그나마 순매수 1위 셀트리온(1450억원) 평균 매수단가가 5일 종가보다 9000원가량 [싼] 17만2000원으로, 수익률 +6.39%를 기록하며 유일하게 플러스 성적을 냈다.\n",
            "13. ID: NPRW2300000002.29249.9 | 문장: 국내 증시에서는 개인투자자들의 매수 기세가 꺾여 수급이 예전처럼 강력하지 않다는 점도 리스크다. 이른바 ‘빚투’에 나섰던 투자자들이 변동성 장세에 가로막혔기 때문이다. 8일 기준 개인투자자들이 증권사 등으로부터 주식 매입을 위해 빌린 자금인 신용거래 융자 잔액은 21조 원대를 기록했다. 코스피가 3000포인트를 처음 넘어섰던 지난해 1월보다도 많은 수준이다. 문제는 증권사에서 돈을 빌려 투자했다 되갚지 못해 주식을 강제 매도당하는 ‘반대매매’다. 변동성이 높아지면서 개인투자자들이 부담해야 할 손실이 커질 수 있다는 것이다. 대출 주식이 급락할 경우 보유분을 모두 팔아도 빚을 다 갚지 못할 수 있다. 정용택 IBK투자증권 수석연구원은 “최근 주가가 [싸]다는 인식에 2600선에서 신용융자가 많이 들어왔다”면서 “물가나 통화정책 완화를 기대하기 어려운 점을 고려하면 신용 투자자들의 반대매매 압박이 더욱 거세질 것”이라고 말했다.\n",
            "14. ID: NWRW2300000002.15702.1 | 문장: [단독] “한국행 비행기표 [싸]게 팔아요” 교민 200명 사기 피해\n",
            "15. ID: NPRW2300000002.59685.5 | 문장: 메가 히트곡이자 데뷔곡인 ‘어머님께’의 비하인드 스토리도 공개됐다. 박준형은 “사실 이 이야기가 우리 어머니 이야기다. 원래는 짜장면이 아닌 잡채였다”라고 운을 뗐다. 그는 “미국에 있을 때 한국 사람들끼리 모여서 음식을 나눠 먹곤 했다. 어머니가 반찬을 [싸]서 주시면 어머니 드시라고 반을 남겨뒀다”라며 “어머니가 그걸 드시지 않고, 학교 갈 때 도시락에 반찬으로 넣어주셨다. 그걸 한국 정서에 맞게 수정한 게 ‘어머님께’다”라고 설명했다.\n",
            "16. ID: NPRW2300000008.39062.7 | 문장: 부산국제록페스티벌을 더욱 [싼] 가격(25% 할인가)으로 만날 수 있는 ‘얼리버드 티켓’은 2일 오후 2시부터 ‘예스24티켓’에서 판매된다. 지난 6월 29일 판매된 블라인드 티켓은 5분 만에 매진되기도 했다.\n",
            "17. ID: NWRW2300000007.20348.6 | 문장: 전북개발공사 관계자는 “서 사장이 오늘 오전 짐을 [싸]서 본가가 있는 서울로 갔다. 그동안 논란으로 부담스러워했고 부인도 건강이 안 좋아 사의를 표명한 것으로 안다”고 전했다.\n",
            "18. ID: NLRW2300000007.3611.4 | 문장: 이어 김 예비후보는 “농민들의 기본소득 및 농업경영지원인 농민특별수당 연 120만원과 육아특별수당 원 30만원을 확정하겠다”며 “또한 청년지원조례에 청년발전특별기금 100억원과 산학관 협력단 결성, 청년 디딤돌 하우스를 조성해 청소년들이 결혼전까지 자립할 수 있는 하우스를 [싼] 가격으로 공급하겠다”고 밝혔다.\n",
            "19. ID: NPRW2300000003.39671.5 | 문장: 이정빈 신한금융투자 연구원은 “불안감에 따른 투자 심리 악화가 가격 조정을 불러일으키고 있다”며 “안전지대는 없지만 이런 구간은 대부분 알짜 주식들을 [싸]게 살 수 있는 기회를 제공한다”라고 밝혔다. 이 연구원이 주목한 것은 실적이 견고하고 주가와 이익 모멘텀으로 연결될 수 있는 종목들이다. 그는 “중장기적으로 놀라운 누적 수익률을 기록한 비결은 실적에 있다”며 “높은 실적(어닝 서프라이즈)을 확보할 확률이 높으면서 수요와 공급이 일치하는 종목을 찾는 것이 중요하다”고 조언했다. 파라다이스, S-Oil, SK이노베이션, 포스코인터내셔널, 오리온, 신한지주, 에코프로비엠, 비에이치, 신세계인터내셔널, 에스엘 등이 이에 해당한다.\n",
            "20. ID: NPRW2300000003.33016.2 | 문장: 포스코가 미국 에너지기업 엑손모빌로부터 세계 최초로 양산하는 극저온 고망간강 기술승인을 받았다. 액화천연가스(LNG) 저장·수송용 강재로 쓸 수 있다고 인정받은 것이다. 국내 플랜트 기업들이 니켈·크롬·알루미늄 위주의 기존 소재보다 [싼]값에 구매 가능한 강재인 만큼 향후 국내 기업 공급망 리스크 해결에 크게 기여할 것으로 전망된다.\n",
            "21. ID: NPRW2300000005.619.1 | 문장: 이재명이 약속한 탈모치료제 건보적용...얼마나 [싸]질까\n",
            "22. ID: NPRW2300000005.44232.6 | 문장: 일부 품목에선 가격이 [싼] 다른 브랜드로 갈아타는 모습도 확인됐다. 레귤러 커피의 경우 주요 제조업체들의 ‘내셔널 브랜드’ 제품의 판매액과 판매수량이 줄어든 반면, 슈퍼마켓이 독자적으로 판매하는 ‘프라이빗 브랜드’ 제품은 판매액과 판매수량 모두 증가했다. 조사 대상 60개 품목 중 57개 품목에서 프라이빗 브랜드 제품이 확인됐고, 약 70%가 점유율이 1년 전보다 확대했다.\n",
            "23. ID: NWRW2300000001.41078.7 | 문장: 롯데마트는 오는 28일까지 ‘올 어바웃 스테이크’를 테마로 축산 할인 행사를 진행한다. 무항생제 지리산 순한한우·강원한우 스테이크 전품목을 30% [싸]게 판다. 특히 1등급 한우 등심 스테이크(100g·냉장)와 티본스테이크(100g·냉장·미국산)를 30% 할인한 각 7700원, 6286원에 내놓는다. 초이스등급 소 부채살·척아이롤(100g·냉장6미국산)은 40% 저렴한 각각 2190원, 1692원이다.\n",
            "24. ID: NPRW2300000003.35771.8 | 문장: 조사결과를 자세히 살펴보면 휘발유 가격은 모든 도시 평균 전년 대비 37% 뛰었고, 레바논 베이루트는 1128% 치솟았다. 연료가 가장 [싼] 도시는 이란의 테헤란으로 리터당 0.09달러(약 112.92원)였다. 터키 앙카라는 207위로 5계단 떨어진 뒤 국외 거주자에게는 세계에서 가장 저렴한 도시다.\n",
            "25. ID: NPRW2300000001.62168.6 | 문장: 식품업계는 롯데마트의 무더기 발주 중단을 이례적인 일로 보고 있다. 식품업계 관계자는 “원래 마트와 슈퍼 등 채널별로 제품 공급가를 달리 정하고 정책에 따라 마트에서 [싸]게 팔 수도 있고 슈퍼에서 더 [싸]게 팔 수도 있는 것인데, 롯데 측에서 일괄적으로 마트와 슈퍼에 공급했던 것 중 [싸]게 공급한 것에 맞춰 납품하라는 것”이라며 “이는 흔히 있는 일은 아니다”고 말했다. 또 다른 식품업계 관계자도 “식품 제조 원가가 오른 상황에서 유통 채널별로 차별되는 특성에 맞춰서 납품단가를 정하는 건데 일괄적으로 낮은 쪽에 단가를 맞춰달라는 건 받아들이기 어려운 요구”라고 했다.\n",
            "26. ID: NPRW2300000008.54699.4 | 문장: 우리가 탈원전으로 주춤하는 사이 글로벌 원전 시장은 러시아와 중국이 막대한 자금력을 앞세워 수주를 휩쓸어왔다. 그러나 미국의 글로벌 공급망 재편과 우크라이나 전쟁으로 러시아와 중국에 대한 견제 분위기가 형성됐고 유럽을 비롯한 서방에서 한국형 원전의 경제성이 부각되고 있다. 지난 40여년간 총 27기를 꾸준히 건설·운용해온 한국 원전의 경제성은 미국·프랑스 같은 경쟁국을 압도한다. 한국형 원전의 kW당 건설단가는 3571달러로, 프랑스(7931달러)나 미국(5833달러)의 45~60% 수준이고, 중국보다도 [싸]다. 또 계획된 공기와 예산을 준수하며 가장 빠르게 원전을 건설하는 능력에서 경쟁국을 압도한다는 점도 정평이 나 있다.\n",
            "27. ID: NWRW2300000006.12422.3 | 문장: 22일 직방에 따르면, 올해 4분기 현재 서울 아파트의 직전 대비 가격이 5% 이상 대폭 하락한 거래의 비율은 51.6%로 집계됐다. 직전 최고치였던 2008년 4분기(47%)보다 4%포인트 넘게 높다. 오차범위 ±1%를 제외해도 전체 거래된 아파트 중 3분의 2가 이전보다 [싼]값에 팔렸다.\n",
            "28. ID: NLRW2300000001.6015.2 | 문장: 최근 유가 상승 이후 물가가 치솟고 있지만 [쌀]만큼은 산지와 소매 가격 모두 거꾸로 하락하고 있다. 쌀 소비량 감소와 생산량 급증에 따라 쌀 값이 하락해도 마땅한 해결책이 없어 농민들만 속앓이를 하고 있다.\n",
            "29. ID: NWRW2300000004.19884.4 | 문장: 임창정은 5형제를 위해 도시락을 [쌌]다. 그러던 중, 셋째 준호가 없는 모습이 궁금증을 자아냈다. 첫재도 “호야 언제 오냐”고 물었고, 임창정은 “이제 올 때 됐다”고 답했다.\n",
            "30. ID: NPRW2300000007.23723.5 | 문장: 하지만 첼시는 브렌트포드 라야를 [싼] 가격에 팔지 않을 것으로 예상했고, 이로 인해 대안으로 픽포드를 선택했다. 픽포드는 2017년 선덜랜드에서 에버튼으로 이적한 후 잉글랜드 대표팀 주전 골키퍼로서 뛰어난 활약을 펼쳤다.\n"
          ]
        }
      ]
    },
    {
      "cell_type": "markdown",
      "source": [
        "# 저장"
      ],
      "metadata": {
        "id": "kecic9Zy-at2"
      }
    },
    {
      "cell_type": "code",
      "source": [
        "import csv\n",
        "import os\n",
        "import pandas as pd\n",
        "\n",
        "# 저장 경로 설정\n",
        "save_path = \"/content/drive/MyDrive/2025-2. 홍콩대 학술교류/필터링 결과\"\n",
        "os.makedirs(save_path, exist_ok=True)\n",
        "\n",
        "# CSV 및 XLSX 파일 저장 함수\n",
        "def save_to_csv(filename, data_dict):\n",
        "    \"\"\"\n",
        "    주어진 딕셔너리를 CSV 파일로 저장\n",
        "    \"\"\"\n",
        "    file_path = os.path.join(save_path, filename)\n",
        "    with open(file_path, mode='w', encoding='utf-8', newline='') as file:\n",
        "        writer = csv.writer(file)\n",
        "        writer.writerow([\"ID\", \"Sentence\"])\n",
        "        for key, sentence in data_dict.items():\n",
        "            writer.writerow([key, sentence])\n",
        "\n",
        "def save_to_xlsx(filename, data_dict):\n",
        "    \"\"\"\n",
        "    주어진 딕셔너리를 XLSX 파일로 저장\n",
        "    \"\"\"\n",
        "    file_path = os.path.join(save_path, filename)\n",
        "    df = pd.DataFrame(list(data_dict.items()), columns=[\"ID\", \"Sentence\"])\n",
        "    df.to_excel(file_path, index=False)"
      ],
      "metadata": {
        "id": "vvTMNtaO6B0t"
      },
      "execution_count": null,
      "outputs": []
    },
    {
      "cell_type": "code",
      "source": [
        "# CSV 및 XLSX 파일로 저장\n",
        "save_to_csv(f\"{WORD_WE_USE}_2022_talk_sentences.csv\", filtered_2022_talk_sentences)\n",
        "save_to_xlsx(f\"{WORD_WE_USE}_2022_talk_sentences.xlsx\", filtered_2022_talk_sentences)\n",
        "\n",
        "save_to_csv(f\"{WORD_WE_USE}_2023_talk_sentences.csv\", filtered_2023_talk_sentences)\n",
        "save_to_xlsx(f\"{WORD_WE_USE}_2023_talk_sentences.xlsx\", filtered_2023_talk_sentences)\n",
        "\n",
        "save_to_csv(f\"{WORD_WE_USE}_2023_news_sentences.csv\", filtered_2023_news_sentences)\n",
        "save_to_xlsx(f\"{WORD_WE_USE}_2023_news_sentences.xlsx\", filtered_2023_news_sentences)\n",
        "\n",
        "# 결과 출력\n",
        "print(f\"샘플링된 2022 구어 말뭉치에서 '{WORD_WE_USE}' 활용형이 포함된 문장: {len(filtered_2022_talk_sentences)}개\")\n",
        "print(f\"샘플링된 2023 구어 말뭉치에서 '{WORD_WE_USE}' 활용형이 포함된 문장: {len(filtered_2023_talk_sentences)}개\")\n",
        "print(f\"샘플링된 2023 신문 말뭉치에서 '{WORD_WE_USE}' 활용형이 포함된 문장: {len(filtered_2023_news_sentences)}개\")"
      ],
      "metadata": {
        "colab": {
          "base_uri": "https://localhost:8080/"
        },
        "id": "43Ni7uyU6FHm",
        "outputId": "0fa5f608-53a0-4d83-d9ed-3073634a857b"
      },
      "execution_count": null,
      "outputs": [
        {
          "output_type": "stream",
          "name": "stdout",
          "text": [
            "샘플링된 2022 구어 말뭉치에서 '싸다' 활용형이 포함된 문장: 1692개\n",
            "샘플링된 2023 구어 말뭉치에서 '싸다' 활용형이 포함된 문장: 1199개\n",
            "샘플링된 2023 신문 말뭉치에서 '싸다' 활용형이 포함된 문장: 4984개\n"
          ]
        }
      ]
    },
    {
      "cell_type": "markdown",
      "source": [
        "# 연습"
      ],
      "metadata": {
        "id": "X1fBKvms6CMj"
      }
    },
    {
      "cell_type": "code",
      "source": [
        "# 테스트 문장\n",
        "test_sentences = [\"이 물은 차다.\",\n",
        "                  \"나는 공을 찼다.\",\n",
        "                  \"약간 휴식 취하고 이런 경찰들 좀 있잖아 차 세워 놓고.\",\n",
        "                  \"대법원의 판결문 초안이 공개된 다음날인 3일(현지시간) 워싱턴의 연방대법원 앞에는 임신중단 찬·반론자 수백명이 몰려들었다. 찬성론자들은 ‘내 몸에 대한 선택은 내가 한다’ 등의 손팻말을 들고 구호를 외치며 로 대 웨이드 판례를 뒤집으려는 대법원에 항의했다. ‘법원은 당신의 권리에 관심이 없다’는 구호도 등장했다. 반면 천주교 신자 등 임신중단 반대론자들은 “임신중단은 살인”이라며 대법원 결정을 지지했다. 경찰은 대법원 정문 앞 도로를 경찰차와 바리케이드로 막고 물리적 충돌에 대비했다.\"\n",
        "                  ]\n",
        "\n",
        "# 형태소 분석 수행 및 출력\n",
        "for sentence in test_sentences:\n",
        "    analyzed = kiwi.analyze(sentence)\n",
        "\n",
        "    print(analyzed)\n",
        "\n",
        "    print(f\"\\n🔹 문장: {sentence}\")\n",
        "    for token, pos, _, _ in analyzed[0][0]:\n",
        "        print(f\"{token} ({pos})\")"
      ],
      "metadata": {
        "colab": {
          "base_uri": "https://localhost:8080/"
        },
        "id": "VDnm2cFJ0wOe",
        "outputId": "c773156f-68f8-4b89-c287-0c05fc5dc7d0"
      },
      "execution_count": null,
      "outputs": [
        {
          "output_type": "stream",
          "name": "stdout",
          "text": [
            "[([Token(form='이', tag='MM', start=0, len=1), Token(form='물', tag='NNG', start=2, len=1), Token(form='은', tag='JX', start=3, len=1), Token(form='차', tag='VA', start=5, len=1), Token(form='다', tag='EF', start=6, len=1), Token(form='.', tag='SF', start=7, len=1)], -29.898645401000977)]\n",
            "\n",
            "🔹 문장: 이 물은 차다.\n",
            "이 (MM)\n",
            "물 (NNG)\n",
            "은 (JX)\n",
            "차 (VA)\n",
            "다 (EF)\n",
            ". (SF)\n",
            "[([Token(form='나', tag='NP', start=0, len=1), Token(form='는', tag='JX', start=1, len=1), Token(form='공', tag='NNG', start=3, len=1), Token(form='을', tag='JKO', start=4, len=1), Token(form='차', tag='VV', start=6, len=1), Token(form='었', tag='EP', start=6, len=1), Token(form='다', tag='EF', start=7, len=1), Token(form='.', tag='SF', start=8, len=1)], -21.22184181213379)]\n",
            "\n",
            "🔹 문장: 나는 공을 찼다.\n",
            "나 (NP)\n",
            "는 (JX)\n",
            "공 (NNG)\n",
            "을 (JKO)\n",
            "차 (VV)\n",
            "었 (EP)\n",
            "다 (EF)\n",
            ". (SF)\n",
            "[([Token(form='약간', tag='MAG', start=0, len=2), Token(form='휴식', tag='NNG', start=3, len=2), Token(form='취하', tag='VV', start=6, len=2), Token(form='고', tag='EC', start=8, len=1), Token(form='이런', tag='MM', start=10, len=2), Token(form='경찰', tag='NNG', start=13, len=2), Token(form='들', tag='XSN', start=15, len=1), Token(form='좀', tag='MAG', start=17, len=1), Token(form='있', tag='VA', start=19, len=1), Token(form='지', tag='EC', start=20, len=1), Token(form='않', tag='VX', start=20, len=1), Token(form='어', tag='EC', start=21, len=1), Token(form='차', tag='VV', start=23, len=1), Token(form='어', tag='EC', start=23, len=1), Token(form='세우', tag='VV', start=25, len=2), Token(form='어', tag='EC', start=26, len=1), Token(form='놓', tag='VX', start=28, len=1), Token(form='고', tag='EC', start=29, len=1), Token(form='.', tag='SF', start=30, len=1)], -109.24432373046875)]\n",
            "\n",
            "🔹 문장: 약간 휴식 취하고 이런 경찰들 좀 있잖아 차 세워 놓고.\n",
            "약간 (MAG)\n",
            "휴식 (NNG)\n",
            "취하 (VV)\n",
            "고 (EC)\n",
            "이런 (MM)\n",
            "경찰 (NNG)\n",
            "들 (XSN)\n",
            "좀 (MAG)\n",
            "있 (VA)\n",
            "지 (EC)\n",
            "않 (VX)\n",
            "어 (EC)\n",
            "차 (VV)\n",
            "어 (EC)\n",
            "세우 (VV)\n",
            "어 (EC)\n",
            "놓 (VX)\n",
            "고 (EC)\n",
            ". (SF)\n",
            "[([Token(form='대', tag='XPN', start=0, len=1), Token(form='법원', tag='NNG', start=1, len=2), Token(form='의', tag='JKG', start=3, len=1), Token(form='판결문', tag='NNG', start=5, len=3), Token(form='초안', tag='NNG', start=9, len=2), Token(form='이', tag='JKS', start=11, len=1), Token(form='공개', tag='NNG', start=13, len=2), Token(form='되', tag='XSV', start=15, len=1), Token(form='ᆫ', tag='ETM', start=15, len=1), Token(form='다음', tag='NNG', start=17, len=2), Token(form='날', tag='NNG', start=19, len=1), Token(form='이', tag='VCP', start=20, len=1), Token(form='ᆫ', tag='ETM', start=20, len=1), Token(form='3', tag='SN', start=22, len=1), Token(form='일', tag='NNB', start=23, len=1), Token(form='(', tag='SSO', start=24, len=1), Token(form='현지', tag='NNG', start=25, len=2), Token(form='시간', tag='NNG', start=27, len=2), Token(form=')', tag='SSC', start=29, len=1), Token(form='워싱턴', tag='NNP', start=31, len=3), Token(form='의', tag='JKG', start=34, len=1), Token(form='연방대법원', tag='NNP', start=36, len=5), Token(form='앞', tag='NNG', start=42, len=1), Token(form='에', tag='JKB', start=43, len=1), Token(form='는', tag='JX', start=44, len=1), Token(form='임신', tag='NNG', start=46, len=2), Token(form='중단', tag='NNG', start=48, len=2), Token(form='차', tag='VV', start=51, len=1), Token(form='ᆫ', tag='ETM', start=51, len=1), Token(form='·', tag='SP', start=52, len=1), Token(form='반', tag='NNG', start=53, len=1), Token(form='론', tag='XSN', start=54, len=1), Token(form='자', tag='NNG', start=55, len=1), Token(form='수백', tag='NR', start=57, len=2), Token(form='명', tag='NNB', start=59, len=1), Token(form='이', tag='JKS', start=60, len=1), Token(form='몰려들', tag='VV', start=62, len=3), Token(form='었', tag='EP', start=65, len=1), Token(form='다', tag='EF', start=66, len=1), Token(form='.', tag='SF', start=67, len=1), Token(form='찬성론자', tag='NNG', start=69, len=4), Token(form='들', tag='XSN', start=73, len=1), Token(form='은', tag='JX', start=74, len=1), Token(form='‘', tag='SSO', start=76, len=1), Token(form='나', tag='NP', start=77, len=1), Token(form='의', tag='JKG', start=77, len=1), Token(form='몸', tag='NNG', start=79, len=1), Token(form='에', tag='JKB', start=80, len=1), Token(form='대하', tag='VV', start=82, len=2), Token(form='ᆫ', tag='ETM', start=83, len=1), Token(form='선택', tag='NNG', start=85, len=2), Token(form='은', tag='JX', start=87, len=1), Token(form='나', tag='NP', start=89, len=1), Token(form='가', tag='JKS', start=90, len=1), Token(form='하', tag='VV', start=92, len=1), Token(form='ᆫ다', tag='EF', start=92, len=2), Token(form='’', tag='SSC', start=94, len=1), Token(form='등', tag='NNB', start=96, len=1), Token(form='의', tag='JKG', start=97, len=1), Token(form='손', tag='NNG', start=99, len=1), Token(form='팻말', tag='NNG', start=100, len=2), Token(form='을', tag='JKO', start=102, len=1), Token(form='들', tag='VV', start=104, len=1), Token(form='고', tag='EC', start=105, len=1), Token(form='구호', tag='NNG', start=107, len=2), Token(form='를', tag='JKO', start=109, len=1), Token(form='외치', tag='VV', start=111, len=2), Token(form='며', tag='EC', start=113, len=1), Token(form='로', tag='JKB', start=115, len=1), Token(form='대', tag='XPN', start=117, len=1), Token(form='웨이드', tag='NNG', start=119, len=3), Token(form='판례', tag='NNG', start=123, len=2), Token(form='를', tag='JKO', start=125, len=1), Token(form='뒤집', tag='VV-R', start=127, len=2), Token(form='으려는', tag='ETM', start=129, len=3), Token(form='대', tag='XPN', start=133, len=1), Token(form='법원', tag='NNG', start=134, len=2), Token(form='에', tag='JKB', start=136, len=1), Token(form='항의', tag='NNG', start=138, len=2), Token(form='하', tag='XSV', start=140, len=1), Token(form='었', tag='EP', start=140, len=1), Token(form='다', tag='EF', start=141, len=1), Token(form='.', tag='SF', start=142, len=1), Token(form='‘', tag='SSO', start=144, len=1), Token(form='법원', tag='NNG', start=145, len=2), Token(form='은', tag='JX', start=147, len=1), Token(form='당신', tag='NP', start=149, len=2), Token(form='의', tag='JKG', start=151, len=1), Token(form='권리', tag='NNG', start=153, len=2), Token(form='에', tag='JKB', start=155, len=1), Token(form='관심', tag='NNG', start=157, len=2), Token(form='이', tag='JKS', start=159, len=1), Token(form='없', tag='VA', start=161, len=1), Token(form='다', tag='EF', start=162, len=1), Token(form='’', tag='SSC', start=163, len=1), Token(form='는', tag='ETM', start=164, len=1), Token(form='구호', tag='NNG', start=166, len=2), Token(form='도', tag='JX', start=168, len=1), Token(form='등장', tag='NNG', start=170, len=2), Token(form='하', tag='XSV', start=172, len=1), Token(form='었', tag='EP', start=172, len=1), Token(form='다', tag='EF', start=173, len=1), Token(form='.', tag='SF', start=174, len=1), Token(form='반면', tag='NNG', start=176, len=2), Token(form='천주교', tag='NNG', start=179, len=3), Token(form='신자', tag='NNG', start=183, len=2), Token(form='등', tag='NNB', start=186, len=1), Token(form='임신', tag='NNG', start=188, len=2), Token(form='중단', tag='NNG', start=190, len=2), Token(form='반대론자', tag='NNG', start=193, len=4), Token(form='들', tag='XSN', start=197, len=1), Token(form='은', tag='JX', start=198, len=1), Token(form='“', tag='SSO', start=200, len=1), Token(form='임신', tag='NNG', start=201, len=2), Token(form='중단', tag='NNG', start=203, len=2), Token(form='은', tag='JX', start=205, len=1), Token(form='살인', tag='NNG', start=207, len=2), Token(form='”', tag='SSC', start=209, len=1), Token(form='이', tag='VCP', start=210, len=1), Token(form='라며', tag='EC', start=211, len=2), Token(form='대', tag='XPN', start=214, len=1), Token(form='법원', tag='NNG', start=215, len=2), Token(form='결정', tag='NNG', start=218, len=2), Token(form='을', tag='JKO', start=220, len=1), Token(form='지지', tag='NNG', start=222, len=2), Token(form='하', tag='XSV', start=224, len=1), Token(form='었', tag='EP', start=224, len=1), Token(form='다', tag='EF', start=225, len=1), Token(form='.', tag='SF', start=226, len=1), Token(form='경찰', tag='NNG', start=228, len=2), Token(form='은', tag='JX', start=230, len=1), Token(form='대', tag='XPN', start=232, len=1), Token(form='법원', tag='NNG', start=233, len=2), Token(form='정문', tag='NNG', start=236, len=2), Token(form='앞', tag='NNG', start=239, len=1), Token(form='도로', tag='NNG', start=241, len=2), Token(form='를', tag='JKO', start=243, len=1), Token(form='경찰차', tag='NNG', start=245, len=3), Token(form='와', tag='JC', start=248, len=1), Token(form='바리케이드', tag='NNG', start=250, len=5), Token(form='로', tag='JKB', start=255, len=1), Token(form='막', tag='VV', start=257, len=1), Token(form='고', tag='EC', start=258, len=1), Token(form='물리', tag='NNG', start=260, len=2), Token(form='적', tag='XSN', start=262, len=1), Token(form='충돌', tag='NNG', start=264, len=2), Token(form='에', tag='JKB', start=266, len=1), Token(form='대비', tag='NNG', start=268, len=2), Token(form='하', tag='XSV', start=270, len=1), Token(form='었', tag='EP', start=270, len=1), Token(form='다', tag='EF', start=271, len=1), Token(form='.', tag='SF', start=272, len=1)], -741.9095458984375)]\n",
            "\n",
            "🔹 문장: 대법원의 판결문 초안이 공개된 다음날인 3일(현지시간) 워싱턴의 연방대법원 앞에는 임신중단 찬·반론자 수백명이 몰려들었다. 찬성론자들은 ‘내 몸에 대한 선택은 내가 한다’ 등의 손팻말을 들고 구호를 외치며 로 대 웨이드 판례를 뒤집으려는 대법원에 항의했다. ‘법원은 당신의 권리에 관심이 없다’는 구호도 등장했다. 반면 천주교 신자 등 임신중단 반대론자들은 “임신중단은 살인”이라며 대법원 결정을 지지했다. 경찰은 대법원 정문 앞 도로를 경찰차와 바리케이드로 막고 물리적 충돌에 대비했다.\n",
            "대 (XPN)\n",
            "법원 (NNG)\n",
            "의 (JKG)\n",
            "판결문 (NNG)\n",
            "초안 (NNG)\n",
            "이 (JKS)\n",
            "공개 (NNG)\n",
            "되 (XSV)\n",
            "ᆫ (ETM)\n",
            "다음 (NNG)\n",
            "날 (NNG)\n",
            "이 (VCP)\n",
            "ᆫ (ETM)\n",
            "3 (SN)\n",
            "일 (NNB)\n",
            "( (SSO)\n",
            "현지 (NNG)\n",
            "시간 (NNG)\n",
            ") (SSC)\n",
            "워싱턴 (NNP)\n",
            "의 (JKG)\n",
            "연방대법원 (NNP)\n",
            "앞 (NNG)\n",
            "에 (JKB)\n",
            "는 (JX)\n",
            "임신 (NNG)\n",
            "중단 (NNG)\n",
            "차 (VV)\n",
            "ᆫ (ETM)\n",
            "· (SP)\n",
            "반 (NNG)\n",
            "론 (XSN)\n",
            "자 (NNG)\n",
            "수백 (NR)\n",
            "명 (NNB)\n",
            "이 (JKS)\n",
            "몰려들 (VV)\n",
            "었 (EP)\n",
            "다 (EF)\n",
            ". (SF)\n",
            "찬성론자 (NNG)\n",
            "들 (XSN)\n",
            "은 (JX)\n",
            "‘ (SSO)\n",
            "나 (NP)\n",
            "의 (JKG)\n",
            "몸 (NNG)\n",
            "에 (JKB)\n",
            "대하 (VV)\n",
            "ᆫ (ETM)\n",
            "선택 (NNG)\n",
            "은 (JX)\n",
            "나 (NP)\n",
            "가 (JKS)\n",
            "하 (VV)\n",
            "ᆫ다 (EF)\n",
            "’ (SSC)\n",
            "등 (NNB)\n",
            "의 (JKG)\n",
            "손 (NNG)\n",
            "팻말 (NNG)\n",
            "을 (JKO)\n",
            "들 (VV)\n",
            "고 (EC)\n",
            "구호 (NNG)\n",
            "를 (JKO)\n",
            "외치 (VV)\n",
            "며 (EC)\n",
            "로 (JKB)\n",
            "대 (XPN)\n",
            "웨이드 (NNG)\n",
            "판례 (NNG)\n",
            "를 (JKO)\n",
            "뒤집 (VV-R)\n",
            "으려는 (ETM)\n",
            "대 (XPN)\n",
            "법원 (NNG)\n",
            "에 (JKB)\n",
            "항의 (NNG)\n",
            "하 (XSV)\n",
            "었 (EP)\n",
            "다 (EF)\n",
            ". (SF)\n",
            "‘ (SSO)\n",
            "법원 (NNG)\n",
            "은 (JX)\n",
            "당신 (NP)\n",
            "의 (JKG)\n",
            "권리 (NNG)\n",
            "에 (JKB)\n",
            "관심 (NNG)\n",
            "이 (JKS)\n",
            "없 (VA)\n",
            "다 (EF)\n",
            "’ (SSC)\n",
            "는 (ETM)\n",
            "구호 (NNG)\n",
            "도 (JX)\n",
            "등장 (NNG)\n",
            "하 (XSV)\n",
            "었 (EP)\n",
            "다 (EF)\n",
            ". (SF)\n",
            "반면 (NNG)\n",
            "천주교 (NNG)\n",
            "신자 (NNG)\n",
            "등 (NNB)\n",
            "임신 (NNG)\n",
            "중단 (NNG)\n",
            "반대론자 (NNG)\n",
            "들 (XSN)\n",
            "은 (JX)\n",
            "“ (SSO)\n",
            "임신 (NNG)\n",
            "중단 (NNG)\n",
            "은 (JX)\n",
            "살인 (NNG)\n",
            "” (SSC)\n",
            "이 (VCP)\n",
            "라며 (EC)\n",
            "대 (XPN)\n",
            "법원 (NNG)\n",
            "결정 (NNG)\n",
            "을 (JKO)\n",
            "지지 (NNG)\n",
            "하 (XSV)\n",
            "었 (EP)\n",
            "다 (EF)\n",
            ". (SF)\n",
            "경찰 (NNG)\n",
            "은 (JX)\n",
            "대 (XPN)\n",
            "법원 (NNG)\n",
            "정문 (NNG)\n",
            "앞 (NNG)\n",
            "도로 (NNG)\n",
            "를 (JKO)\n",
            "경찰차 (NNG)\n",
            "와 (JC)\n",
            "바리케이드 (NNG)\n",
            "로 (JKB)\n",
            "막 (VV)\n",
            "고 (EC)\n",
            "물리 (NNG)\n",
            "적 (XSN)\n",
            "충돌 (NNG)\n",
            "에 (JKB)\n",
            "대비 (NNG)\n",
            "하 (XSV)\n",
            "었 (EP)\n",
            "다 (EF)\n",
            ". (SF)\n"
          ]
        }
      ]
    }
  ]
}